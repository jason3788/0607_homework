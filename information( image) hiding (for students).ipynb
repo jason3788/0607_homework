{
 "cells": [
  {
   "cell_type": "markdown",
   "metadata": {},
   "source": [
    ">> 和 <<都是位元運算，對二進位數值做移位操作。\n",
    "<< 是左移，末位補0，類比十進制數在末尾添0相當於原數乘以10，\n",
    "x<<z 是將x之二進位表示左移z位最右邊再補z個0，相當於原數x乘2的z次方。\n",
    "x<<1 是將x之二進位表示左移一位，相當於原數x乘2。\n",
    "例如整數4在二進位下是100，4<<1左移1位變成1000(二進位)，結果是8。\n",
    ">>是右移，右移1位相當於除以2。"
   ]
  },
  {
   "cell_type": "code",
   "execution_count": 27,
   "metadata": {},
   "outputs": [
    {
     "name": "stdout",
     "output_type": "stream",
     "text": [
      "1 的二進位為:  1\n",
      "1 的二進位為:  1\n",
      "2 的二進位為:  10\n",
      "4 的二進位為:  100\n"
     ]
    }
   ],
   "source": [
    "print (1, '的二進位為: ', format(1,'b'))\n",
    "print (1, '的二進位為: ', format(1<<0,'b'))\n",
    "print (1<<1, '的二進位為: ', format(1<<1,'b'))\n",
    "print (1<<2, '的二進位為: ', format(1<<2,'b'))"
   ]
  },
  {
   "cell_type": "code",
   "execution_count": 28,
   "metadata": {},
   "outputs": [
    {
     "name": "stdout",
     "output_type": "stream",
     "text": [
      "False\n",
      "True\n",
      "False\n",
      "True\n"
     ]
    }
   ],
   "source": [
    "#boolean 值\n",
    "print(False)\n",
    "print(True)\n",
    "print(1==2)\n",
    "print(2==2)"
   ]
  },
  {
   "cell_type": "code",
   "execution_count": 29,
   "metadata": {},
   "outputs": [
    {
     "name": "stdout",
     "output_type": "stream",
     "text": [
      "2000\n"
     ]
    }
   ],
   "source": [
    "# 觀察: 0相當於False; 1相當於True.\n",
    "if 0:\n",
    "    print(1000)\n",
    "if 1:\n",
    "    print(2000)    "
   ]
  },
  {
   "cell_type": "code",
   "execution_count": 30,
   "metadata": {},
   "outputs": [
    {
     "name": "stdout",
     "output_type": "stream",
     "text": [
      "3000\n",
      "4000\n"
     ]
    }
   ],
   "source": [
    "# 再觀察: 0相當於False; 非0相當於True. \n",
    "if 2:\n",
    "    print(3000)\n",
    "if 3:\n",
    "    print(4000)    "
   ]
  },
  {
   "cell_type": "code",
   "execution_count": null,
   "metadata": {},
   "outputs": [],
   "source": [
    "# 如何取出z之第2個位元? (若考慮byte, 則總共有8個位元:第0~7個位元)\n",
    "z = 93 #1011101\n",
    "print(format(z,'b'))\n",
    "print (z & 4, '的二進位為: ', format(z & 4,'b')) \n",
    "#z=1011101, 第3個位元為1,因此z&4的第三個位元等於1, z&4必等於4,不等於0"
   ]
  },
  {
   "cell_type": "code",
   "execution_count": null,
   "metadata": {},
   "outputs": [],
   "source": [
    "# 印出z之第2個位元\n",
    "#z & 4相當於 1011101&100 = 100, 因為z的bit 2等於1則z & 4 = 100\n",
    "print('z & 4 = ', z & 4)\n",
    "\n",
    "#z & 4若為非0就被當成true;若為0就被當成false, 因此可以用來擷取z的第2個位元\n",
    "if z & 4:  \n",
    "    print(1)\n",
    "else:\n",
    "    print(0)"
   ]
  },
  {
   "cell_type": "code",
   "execution_count": null,
   "metadata": {},
   "outputs": [],
   "source": [
    "# 印出z之第5個位元\n",
    "#z & 32相當於 1011101&100000 = 100, 只要z的bit 5等於0則z & 32 = 000000\n",
    "print('z & 32 = ', z & 32)\n",
    "\n",
    "#z & 32若為非0就被當成true;若為0就被當成false, 因此可以用來擷取每個位元\n",
    "if z & 32:  \n",
    "    print(1)\n",
    "else:\n",
    "    print(0)"
   ]
  },
  {
   "cell_type": "code",
   "execution_count": null,
   "metadata": {},
   "outputs": [],
   "source": [
    "#印出z之bit 2 (另一寫法, 方便用在for loop)\n",
    "\n",
    "if z & (1<<2): \n",
    "    print(1)\n",
    "else:\n",
    "    print(0)"
   ]
  },
  {
   "cell_type": "code",
   "execution_count": null,
   "metadata": {},
   "outputs": [],
   "source": [
    "#印出z之bit 5\n",
    "\n",
    "if z & (1<<5): \n",
    "    print(1)\n",
    "else:\n",
    "    print(0)"
   ]
  },
  {
   "cell_type": "code",
   "execution_count": 34,
   "metadata": {},
   "outputs": [
    {
     "name": "stdout",
     "output_type": "stream",
     "text": [
      "1\n",
      "0\n",
      "1\n",
      "1\n",
      "1\n",
      "0\n",
      "1\n",
      "0\n"
     ]
    }
   ],
   "source": [
    "#z = 1011101\n",
    "#印出z之每一個位元 (視z為一個byte(8個位元))\n",
    "for index in range(8):\n",
    "    if z & (1<<index): \n",
    "        print(1)\n",
    "    else:\n",
    "        print(0) "
   ]
  },
  {
   "cell_type": "code",
   "execution_count": null,
   "metadata": {},
   "outputs": [],
   "source": [
    "#Split a gray image into 8 bit maps\n",
    "import cv2\n",
    "import numpy as np\n",
    "import matplotlib.pyplot as plt\n",
    "\n",
    "image = cv2.imread('images/sena.jpg', 0) #取灰階圖\n",
    "plt.imshow(image,'gray')\n",
    "plt.xticks([]),plt.yticks([])\n",
    "plt.show()\n",
    "\n",
    "print(image.shape)\n",
    "height, width = image.shape\n",
    "bit_map = [np.zeros((height, width), dtype=int) for _ in range(8)]\n",
    "\n",
    "for i in range(8):\n",
    "    for j in range(height):\n",
    "        for k in range(width):\n",
    "            if image[j,k]&(1<<i):\n",
    "                bit_map[i][j,k] = 1\n",
    "\n",
    "for i in range(8):\n",
    "    plt.subplot(2,4,i+1)\n",
    "    plt.imshow(bit_map[i]*255,'gray')\n",
    "    title = ('bit-map', i)\n",
    "    plt.title(title)\n",
    "    plt.xticks([]),plt.yticks([])\n",
    "plt.show()"
   ]
  },
  {
   "cell_type": "code",
   "execution_count": null,
   "metadata": {
    "scrolled": true
   },
   "outputs": [],
   "source": [
    "plt.imshow(bit_map[7]*255,'gray')\n",
    "plt.xticks([]),plt.yticks([])\n",
    "plt.show()"
   ]
  },
  {
   "cell_type": "code",
   "execution_count": null,
   "metadata": {},
   "outputs": [],
   "source": [
    "#sum up 8 bitmaps\n",
    "sum_image = np.zeros((height, width), dtype=int)\n",
    "\n",
    "for i in range(8):\n",
    "    sum_image += bit_map[i]*2**i\n",
    "\n",
    "images = [image, sum_image]\n",
    "titles = ['original','reconstructed']\n",
    "for i in range(2):\n",
    "    plt.subplot(1,2,i+1)                    \n",
    "    plt.imshow(images[i],'gray')\n",
    "    plt.title(titles[i])\n",
    "    plt.xticks([]),plt.yticks([])\n",
    "plt.show() "
   ]
  },
  {
   "cell_type": "code",
   "execution_count": null,
   "metadata": {
    "scrolled": true
   },
   "outputs": [],
   "source": [
    "#sum up 5 bitmaps\n",
    "sum_image = np.zeros((height, width), dtype=int)\n",
    "\n",
    "for i in range(5):\n",
    "    sum_image += bit_map[i+3]*2**(i+3)\n",
    "\n",
    "images = [image, sum_image]\n",
    "titles = ['original','reconstructed']\n",
    "for i in range(2):\n",
    "    plt.subplot(1,2,i+1)                    \n",
    "    plt.imshow(images[i],'gray')\n",
    "    plt.title(titles[i])\n",
    "    plt.xticks([]),plt.yticks([])\n",
    "plt.show() "
   ]
  },
  {
   "cell_type": "code",
   "execution_count": null,
   "metadata": {},
   "outputs": [],
   "source": [
    "image_2 = cv2.imread('images/maple.jpg', 0) #取灰階圖   \n",
    "plt.imshow(image_2,'gray')\n",
    "plt.xticks([]),plt.yticks([])"
   ]
  },
  {
   "cell_type": "code",
   "execution_count": null,
   "metadata": {
    "scrolled": true
   },
   "outputs": [],
   "source": [
    "#Want to hide bit_map_image[6] into an image 'maple.jpg'\n",
    "image_2 = cv2.imread('images/maple.jpg', 0) #取灰階圖   \n",
    "\n",
    "print('shape of original image = ', image_2.shape)\n",
    "h, w = image_2.shape\n",
    "watermark = bit_map[6]\n",
    "hh, ww = watermark.shape\n",
    "watermarked_image = image_2.copy()\n",
    "print('shape of watermark = ', watermark.shape)\n",
    "\n",
    "for j in range(hh):\n",
    "    for k in range(ww):\n",
    "        #若watermark[j,k] == 1, 則改變watermarked_image[j,k]之bit 1 之值 (0變成1, 1變成0)\n",
    "        if watermark[j,k] == 1:\n",
    "            if image_2[j,k]&(1<<0): #看第一個bit(bit 1)是否為1\n",
    "                watermarked_image[j,k] -= 1 #1變0\n",
    "            else:\n",
    "                watermarked_image[j,k] += 1 #0變1\n",
    "          \n",
    "images = [watermark, image_2, watermarked_image]\n",
    "titles = ['watermark','original','watermarked']\n",
    "for i in range(3):\n",
    "    plt.subplot(1,3,i+1)                    \n",
    "    plt.imshow(images[i],'gray')\n",
    "    plt.title(titles[i])\n",
    "    plt.xticks([]),plt.yticks([])\n",
    "plt.show()"
   ]
  },
  {
   "cell_type": "code",
   "execution_count": null,
   "metadata": {},
   "outputs": [],
   "source": [
    "#Extract watermark, 假設不知watermark尺寸\n",
    "extracted_watermark = np.zeros((h, w), dtype=int)\n",
    "for j in range(h):\n",
    "    for k in range(w):\n",
    "        #若watermarked_image[j,k] != image_2[j,k], \n",
    "        #則將extracted_watermark[j,k]記錄為2**(i-1)\n",
    "        if watermarked_image[j,k] != image_2[j,k]:\n",
    "            extracted_watermark[j,k] = 255 "
   ]
  },
  {
   "cell_type": "code",
   "execution_count": null,
   "metadata": {},
   "outputs": [],
   "source": [
    "images = [watermark, extracted_watermark]\n",
    "titles = ['watermark','extracted']\n",
    "for i in range(2):\n",
    "    plt.subplot(1,2,i+1)                    \n",
    "    plt.imshow(images[i],'gray')\n",
    "    plt.title(titles[i])\n",
    "    plt.xticks([]),plt.yticks([])\n",
    "plt.show()"
   ]
  },
  {
   "cell_type": "code",
   "execution_count": null,
   "metadata": {},
   "outputs": [],
   "source": [
    "#Extract watermark, 假設已知watermark尺寸\n",
    "extracted_watermark = np.zeros((hh, ww), dtype=int)\n",
    "for j in range(hh):\n",
    "    for k in range(ww):\n",
    "        #若watermarked_image[j,k] != image_2[j,k], \n",
    "        #則將extracted_watermark[j,k]記錄為2**(i-1)\n",
    "        if watermarked_image[j,k] != image_2[j,k]:\n",
    "            extracted_watermark[j,k] = 255 "
   ]
  },
  {
   "cell_type": "code",
   "execution_count": null,
   "metadata": {},
   "outputs": [],
   "source": [
    "images = [watermark, extracted_watermark]\n",
    "titles = ['watermark','extracted']\n",
    "for i in range(2):\n",
    "    plt.subplot(1,2,i+1)                    \n",
    "    plt.imshow(images[i],'gray')\n",
    "    plt.title(titles[i])\n",
    "    plt.xticks([]),plt.yticks([])\n",
    "plt.show()"
   ]
  },
  {
   "cell_type": "code",
   "execution_count": null,
   "metadata": {},
   "outputs": [],
   "source": [
    "前述的隱像術也可以用來隱藏任何可以用位元表示的資料,比如一段編完碼的文章"
   ]
  },
  {
   "cell_type": "markdown",
   "metadata": {},
   "source": [
    "前述的隱像術(image hiding)之優缺點為何? \n",
    "優點: 植入容易\n",
    "缺點: 取出困難.\n",
    "     利用位元平面來植入影像的最大缺點為：一旦經過壓縮後，所植入的影像很容易受到破壞，解壓後所取出的影像常常已遭到破損。"
   ]
  },
  {
   "cell_type": "code",
   "execution_count": null,
   "metadata": {},
   "outputs": [],
   "source": []
  },
  {
   "cell_type": "code",
   "execution_count": null,
   "metadata": {},
   "outputs": [],
   "source": []
  }
 ],
 "metadata": {
  "kernelspec": {
   "display_name": "Python 3",
   "language": "python",
   "name": "python3"
  },
  "language_info": {
   "codemirror_mode": {
    "name": "ipython",
    "version": 3
   },
   "file_extension": ".py",
   "mimetype": "text/x-python",
   "name": "python",
   "nbconvert_exporter": "python",
   "pygments_lexer": "ipython3",
   "version": "3.7.3"
  }
 },
 "nbformat": 4,
 "nbformat_minor": 2
}
